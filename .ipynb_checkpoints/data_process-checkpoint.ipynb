{
 "cells": [
  {
   "cell_type": "code",
   "execution_count": 161,
   "metadata": {
    "collapsed": false
   },
   "outputs": [],
   "source": [
    "    import pandas as pd\n",
    "    \n",
    "    #Load Data Sets\n",
    "    pd_links = pd.read_csv('dataSets/training/links (table 3).csv')\n",
    "    pd_routes = pd.read_csv('dataSets/training/routes (table 4).csv')\n",
    "    pd_trajectories = pd.read_csv('dataSets/training/trajectories(table 5)_training.csv')\n",
    "    pd_volume = pd.read_csv('dataSets/training/volume(table 6)_training.csv')"
   ]
  },
  {
   "cell_type": "code",
   "execution_count": 162,
   "metadata": {
    "collapsed": false
   },
   "outputs": [
    {
     "data": {
      "text/html": [
       "<div>\n",
       "<table border=\"1\" class=\"dataframe\">\n",
       "  <thead>\n",
       "    <tr style=\"text-align: right;\">\n",
       "      <th></th>\n",
       "      <th>intersection_id</th>\n",
       "      <th>tollgate_id</th>\n",
       "      <th>vehicle_id</th>\n",
       "      <th>starting_time</th>\n",
       "      <th>travel_seq</th>\n",
       "      <th>travel_time</th>\n",
       "    </tr>\n",
       "  </thead>\n",
       "  <tbody>\n",
       "    <tr>\n",
       "      <th>0</th>\n",
       "      <td>B</td>\n",
       "      <td>3</td>\n",
       "      <td>1065642</td>\n",
       "      <td>2016-07-19 00:14:24</td>\n",
       "      <td>105#2016-07-19 00:14:24#9.56;100#2016-07-19 00...</td>\n",
       "      <td>70.85</td>\n",
       "    </tr>\n",
       "    <tr>\n",
       "      <th>1</th>\n",
       "      <td>B</td>\n",
       "      <td>3</td>\n",
       "      <td>1047198</td>\n",
       "      <td>2016-07-19 00:35:56</td>\n",
       "      <td>105#2016-07-19 00:35:56#11.58;100#2016-07-19 0...</td>\n",
       "      <td>148.79</td>\n",
       "    </tr>\n",
       "    <tr>\n",
       "      <th>2</th>\n",
       "      <td>B</td>\n",
       "      <td>1</td>\n",
       "      <td>1086390</td>\n",
       "      <td>2016-07-19 00:37:15</td>\n",
       "      <td>105#2016-07-19 00:37:15#5.26;100#2016-07-19 00...</td>\n",
       "      <td>79.76</td>\n",
       "    </tr>\n",
       "    <tr>\n",
       "      <th>3</th>\n",
       "      <td>A</td>\n",
       "      <td>2</td>\n",
       "      <td>1071181</td>\n",
       "      <td>2016-07-19 00:37:59</td>\n",
       "      <td>110#2016-07-19 00:37:59#13.74;123#2016-07-19 0...</td>\n",
       "      <td>58.05</td>\n",
       "    </tr>\n",
       "    <tr>\n",
       "      <th>4</th>\n",
       "      <td>B</td>\n",
       "      <td>1</td>\n",
       "      <td>1065807</td>\n",
       "      <td>2016-07-19 00:56:21</td>\n",
       "      <td>105#2016-07-19 00:56:21#16.08;100#2016-07-19 0...</td>\n",
       "      <td>137.98</td>\n",
       "    </tr>\n",
       "  </tbody>\n",
       "</table>\n",
       "</div>"
      ],
      "text/plain": [
       "  intersection_id  tollgate_id  vehicle_id        starting_time  \\\n",
       "0               B            3     1065642  2016-07-19 00:14:24   \n",
       "1               B            3     1047198  2016-07-19 00:35:56   \n",
       "2               B            1     1086390  2016-07-19 00:37:15   \n",
       "3               A            2     1071181  2016-07-19 00:37:59   \n",
       "4               B            1     1065807  2016-07-19 00:56:21   \n",
       "\n",
       "                                          travel_seq  travel_time  \n",
       "0  105#2016-07-19 00:14:24#9.56;100#2016-07-19 00...        70.85  \n",
       "1  105#2016-07-19 00:35:56#11.58;100#2016-07-19 0...       148.79  \n",
       "2  105#2016-07-19 00:37:15#5.26;100#2016-07-19 00...        79.76  \n",
       "3  110#2016-07-19 00:37:59#13.74;123#2016-07-19 0...        58.05  \n",
       "4  105#2016-07-19 00:56:21#16.08;100#2016-07-19 0...       137.98  "
      ]
     },
     "execution_count": 162,
     "metadata": {},
     "output_type": "execute_result"
    }
   ],
   "source": [
    "    #先处理trajectories数据\n",
    "    pd_trajectories.head()"
   ]
  },
  {
   "cell_type": "code",
   "execution_count": 163,
   "metadata": {
    "collapsed": false
   },
   "outputs": [
    {
     "data": {
      "text/html": [
       "<div>\n",
       "<table border=\"1\" class=\"dataframe\">\n",
       "  <thead>\n",
       "    <tr style=\"text-align: right;\">\n",
       "      <th></th>\n",
       "      <th>intersection_id</th>\n",
       "      <th>tollgate_id</th>\n",
       "      <th>vehicle_id</th>\n",
       "      <th>starting_time</th>\n",
       "      <th>travel_seq</th>\n",
       "      <th>travel_time</th>\n",
       "      <th>weekday</th>\n",
       "    </tr>\n",
       "  </thead>\n",
       "  <tbody>\n",
       "    <tr>\n",
       "      <th>0</th>\n",
       "      <td>B</td>\n",
       "      <td>3</td>\n",
       "      <td>1065642</td>\n",
       "      <td>2016-07-19 00:14:24</td>\n",
       "      <td>105#2016-07-19 00:14:24#9.56;100#2016-07-19 00...</td>\n",
       "      <td>70.85</td>\n",
       "      <td>2</td>\n",
       "    </tr>\n",
       "    <tr>\n",
       "      <th>1</th>\n",
       "      <td>B</td>\n",
       "      <td>3</td>\n",
       "      <td>1047198</td>\n",
       "      <td>2016-07-19 00:35:56</td>\n",
       "      <td>105#2016-07-19 00:35:56#11.58;100#2016-07-19 0...</td>\n",
       "      <td>148.79</td>\n",
       "      <td>2</td>\n",
       "    </tr>\n",
       "    <tr>\n",
       "      <th>2</th>\n",
       "      <td>B</td>\n",
       "      <td>1</td>\n",
       "      <td>1086390</td>\n",
       "      <td>2016-07-19 00:37:15</td>\n",
       "      <td>105#2016-07-19 00:37:15#5.26;100#2016-07-19 00...</td>\n",
       "      <td>79.76</td>\n",
       "      <td>2</td>\n",
       "    </tr>\n",
       "    <tr>\n",
       "      <th>3</th>\n",
       "      <td>A</td>\n",
       "      <td>2</td>\n",
       "      <td>1071181</td>\n",
       "      <td>2016-07-19 00:37:59</td>\n",
       "      <td>110#2016-07-19 00:37:59#13.74;123#2016-07-19 0...</td>\n",
       "      <td>58.05</td>\n",
       "      <td>2</td>\n",
       "    </tr>\n",
       "    <tr>\n",
       "      <th>4</th>\n",
       "      <td>B</td>\n",
       "      <td>1</td>\n",
       "      <td>1065807</td>\n",
       "      <td>2016-07-19 00:56:21</td>\n",
       "      <td>105#2016-07-19 00:56:21#16.08;100#2016-07-19 0...</td>\n",
       "      <td>137.98</td>\n",
       "      <td>2</td>\n",
       "    </tr>\n",
       "  </tbody>\n",
       "</table>\n",
       "</div>"
      ],
      "text/plain": [
       "  intersection_id  tollgate_id  vehicle_id       starting_time  \\\n",
       "0               B            3     1065642 2016-07-19 00:14:24   \n",
       "1               B            3     1047198 2016-07-19 00:35:56   \n",
       "2               B            1     1086390 2016-07-19 00:37:15   \n",
       "3               A            2     1071181 2016-07-19 00:37:59   \n",
       "4               B            1     1065807 2016-07-19 00:56:21   \n",
       "\n",
       "                                          travel_seq  travel_time  weekday  \n",
       "0  105#2016-07-19 00:14:24#9.56;100#2016-07-19 00...        70.85        2  \n",
       "1  105#2016-07-19 00:35:56#11.58;100#2016-07-19 0...       148.79        2  \n",
       "2  105#2016-07-19 00:37:15#5.26;100#2016-07-19 00...        79.76        2  \n",
       "3  110#2016-07-19 00:37:59#13.74;123#2016-07-19 0...        58.05        2  \n",
       "4  105#2016-07-19 00:56:21#16.08;100#2016-07-19 0...       137.98        2  "
      ]
     },
     "execution_count": 163,
     "metadata": {},
     "output_type": "execute_result"
    }
   ],
   "source": [
    "    #字符转为时间格式\n",
    "    pd_trajectories['starting_time'] = pd.to_datetime(pd_trajectories['starting_time'], format = '%Y-%m-%d %H:%M:%S')\n",
    "    \n",
    "    #获取星期\n",
    "    pd_trajectories['weekday'] = pd_trajectories['starting_time'].dt.dayofweek + 1  #pandas的周一从0开始，周日为6\n",
    "    \n",
    "    \n",
    "    pd_trajectories.head()"
   ]
  },
  {
   "cell_type": "code",
   "execution_count": 165,
   "metadata": {
    "collapsed": false
   },
   "outputs": [],
   "source": [
    "    #获取是否为法定假日\n",
    "    holiday = [pd.Timestamp('2016-10-1'), pd.Timestamp('2016-10-7')]\n",
    "    pd_trajectories['holiday'] = pd_trajectories['starting_time'].between(holiday[0],holiday[1])"
   ]
  },
  {
   "cell_type": "code",
   "execution_count": 169,
   "metadata": {
    "collapsed": false
   },
   "outputs": [],
   "source": [
    "    #获取links\n",
    "    def get_links(seq):\n",
    "        l_seq = seq.split(';')\n",
    "        links = []\n",
    "        for s in l_seq:\n",
    "            link = s.split('#')[0]\n",
    "            links.append(link)\n",
    "        s_links = ';'.join(links)\n",
    "        return s_links\n",
    "    \n",
    "    pd_trajectories['links'] = pd_trajectories['travel_seq'].apply(get_links)"
   ]
  },
  {
   "cell_type": "code",
   "execution_count": 170,
   "metadata": {
    "collapsed": false
   },
   "outputs": [
    {
     "data": {
      "text/html": [
       "<div>\n",
       "<table border=\"1\" class=\"dataframe\">\n",
       "  <thead>\n",
       "    <tr style=\"text-align: right;\">\n",
       "      <th></th>\n",
       "      <th>intersection_id</th>\n",
       "      <th>tollgate_id</th>\n",
       "      <th>vehicle_id</th>\n",
       "      <th>starting_time</th>\n",
       "      <th>travel_seq</th>\n",
       "      <th>travel_time</th>\n",
       "      <th>weekday</th>\n",
       "      <th>holiday</th>\n",
       "      <th>links</th>\n",
       "    </tr>\n",
       "  </thead>\n",
       "  <tbody>\n",
       "    <tr>\n",
       "      <th>0</th>\n",
       "      <td>B</td>\n",
       "      <td>3</td>\n",
       "      <td>1065642</td>\n",
       "      <td>2016-07-19 00:14:24</td>\n",
       "      <td>105#2016-07-19 00:14:24#9.56;100#2016-07-19 00...</td>\n",
       "      <td>70.85</td>\n",
       "      <td>2</td>\n",
       "      <td>False</td>\n",
       "      <td>105;100;111;103;122</td>\n",
       "    </tr>\n",
       "    <tr>\n",
       "      <th>1</th>\n",
       "      <td>B</td>\n",
       "      <td>3</td>\n",
       "      <td>1047198</td>\n",
       "      <td>2016-07-19 00:35:56</td>\n",
       "      <td>105#2016-07-19 00:35:56#11.58;100#2016-07-19 0...</td>\n",
       "      <td>148.79</td>\n",
       "      <td>2</td>\n",
       "      <td>False</td>\n",
       "      <td>105;100;111;103;122</td>\n",
       "    </tr>\n",
       "    <tr>\n",
       "      <th>2</th>\n",
       "      <td>B</td>\n",
       "      <td>1</td>\n",
       "      <td>1086390</td>\n",
       "      <td>2016-07-19 00:37:15</td>\n",
       "      <td>105#2016-07-19 00:37:15#5.26;100#2016-07-19 00...</td>\n",
       "      <td>79.76</td>\n",
       "      <td>2</td>\n",
       "      <td>False</td>\n",
       "      <td>105;100;111;103;116;101;121;106;113</td>\n",
       "    </tr>\n",
       "    <tr>\n",
       "      <th>3</th>\n",
       "      <td>A</td>\n",
       "      <td>2</td>\n",
       "      <td>1071181</td>\n",
       "      <td>2016-07-19 00:37:59</td>\n",
       "      <td>110#2016-07-19 00:37:59#13.74;123#2016-07-19 0...</td>\n",
       "      <td>58.05</td>\n",
       "      <td>2</td>\n",
       "      <td>False</td>\n",
       "      <td>110;123;107;108;120;117</td>\n",
       "    </tr>\n",
       "    <tr>\n",
       "      <th>4</th>\n",
       "      <td>B</td>\n",
       "      <td>1</td>\n",
       "      <td>1065807</td>\n",
       "      <td>2016-07-19 00:56:21</td>\n",
       "      <td>105#2016-07-19 00:56:21#16.08;100#2016-07-19 0...</td>\n",
       "      <td>137.98</td>\n",
       "      <td>2</td>\n",
       "      <td>False</td>\n",
       "      <td>105;100;111;103;116;101;121;106;113</td>\n",
       "    </tr>\n",
       "  </tbody>\n",
       "</table>\n",
       "</div>"
      ],
      "text/plain": [
       "  intersection_id  tollgate_id  vehicle_id       starting_time  \\\n",
       "0               B            3     1065642 2016-07-19 00:14:24   \n",
       "1               B            3     1047198 2016-07-19 00:35:56   \n",
       "2               B            1     1086390 2016-07-19 00:37:15   \n",
       "3               A            2     1071181 2016-07-19 00:37:59   \n",
       "4               B            1     1065807 2016-07-19 00:56:21   \n",
       "\n",
       "                                          travel_seq  travel_time  weekday  \\\n",
       "0  105#2016-07-19 00:14:24#9.56;100#2016-07-19 00...        70.85        2   \n",
       "1  105#2016-07-19 00:35:56#11.58;100#2016-07-19 0...       148.79        2   \n",
       "2  105#2016-07-19 00:37:15#5.26;100#2016-07-19 00...        79.76        2   \n",
       "3  110#2016-07-19 00:37:59#13.74;123#2016-07-19 0...        58.05        2   \n",
       "4  105#2016-07-19 00:56:21#16.08;100#2016-07-19 0...       137.98        2   \n",
       "\n",
       "  holiday                                links  \n",
       "0   False                  105;100;111;103;122  \n",
       "1   False                  105;100;111;103;122  \n",
       "2   False  105;100;111;103;116;101;121;106;113  \n",
       "3   False              110;123;107;108;120;117  \n",
       "4   False  105;100;111;103;116;101;121;106;113  "
      ]
     },
     "execution_count": 170,
     "metadata": {},
     "output_type": "execute_result"
    }
   ],
   "source": [
    "    pd_trajectories.head()"
   ]
  },
  {
   "cell_type": "code",
   "execution_count": 171,
   "metadata": {
    "collapsed": true
   },
   "outputs": [],
   "source": [
    "    pd_trajectories.to_csv('Processed_data_by_weikai/processed_train_trajectories.csv')"
   ]
  },
  {
   "cell_type": "code",
   "execution_count": null,
   "metadata": {
    "collapsed": true
   },
   "outputs": [],
   "source": []
  }
 ],
 "metadata": {
  "kernelspec": {
   "display_name": "Python [conda root]",
   "language": "python",
   "name": "conda-root-py"
  },
  "language_info": {
   "codemirror_mode": {
    "name": "ipython",
    "version": 2
   },
   "file_extension": ".py",
   "mimetype": "text/x-python",
   "name": "python",
   "nbconvert_exporter": "python",
   "pygments_lexer": "ipython2",
   "version": "2.7.12"
  }
 },
 "nbformat": 4,
 "nbformat_minor": 2
}
